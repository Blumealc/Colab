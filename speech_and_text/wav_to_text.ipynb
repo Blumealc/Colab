{
  "nbformat": 4,
  "nbformat_minor": 0,
  "metadata": {
    "colab": {
      "name": "wav_to_text.ipynb",
      "provenance": [],
      "include_colab_link": true
    },
    "kernelspec": {
      "name": "python3",
      "display_name": "Python 3"
    },
    "language_info": {
      "name": "python"
    }
  },
  "cells": [
    {
      "cell_type": "markdown",
      "metadata": {
        "id": "view-in-github",
        "colab_type": "text"
      },
      "source": [
        "<a href=\"https://colab.research.google.com/github/Blumealc/Colab/blob/main/speech_and_text/wav_to_text.ipynb\" target=\"_parent\"><img src=\"https://colab.research.google.com/assets/colab-badge.svg\" alt=\"Open In Colab\"/></a>"
      ]
    },
    {
      "cell_type": "markdown",
      "source": [
        "# Install library"
      ],
      "metadata": {
        "id": "AKARGH96UnSX"
      }
    },
    {
      "cell_type": "code",
      "source": [
        "pip install speechrecognition"
      ],
      "metadata": {
        "colab": {
          "base_uri": "https://localhost:8080/"
        },
        "id": "HDnSOYhR_bTo",
        "outputId": "2259fcee-7bcb-4ce3-f53e-899b75008991"
      },
      "execution_count": null,
      "outputs": [
        {
          "output_type": "stream",
          "name": "stdout",
          "text": [
            "Requirement already satisfied: speechrecognition in /usr/local/lib/python3.7/dist-packages (3.8.1)\n"
          ]
        }
      ]
    },
    {
      "cell_type": "markdown",
      "source": [
        "# Import library"
      ],
      "metadata": {
        "id": "5llgPyNpU1nB"
      }
    },
    {
      "cell_type": "code",
      "source": [
        "import speech_recognition as sr"
      ],
      "metadata": {
        "id": "2-0NC9NgCKu_"
      },
      "execution_count": null,
      "outputs": []
    },
    {
      "cell_type": "code",
      "source": [
        "r = sr.Recognizer()\n",
        "r"
      ],
      "metadata": {
        "colab": {
          "base_uri": "https://localhost:8080/"
        },
        "id": "7mO951r7Ct-s",
        "outputId": "4efed6a8-2124-4387-d462-74bb7f1d81b5"
      },
      "execution_count": null,
      "outputs": [
        {
          "output_type": "execute_result",
          "data": {
            "text/plain": [
              "<speech_recognition.Recognizer at 0x7f9374ed4610>"
            ]
          },
          "metadata": {},
          "execution_count": 8
        }
      ]
    },
    {
      "cell_type": "markdown",
      "source": [
        "# Import audio file"
      ],
      "metadata": {
        "id": "oFk7YQgcU8bN"
      }
    },
    {
      "cell_type": "code",
      "execution_count": null,
      "metadata": {
        "id": "449587fe"
      },
      "outputs": [],
      "source": [
        "#masukkan id file saat klik menu share di gdrive lihat video tutorial saya untuk import file\n",
        "! gdown --id 1QU1YkcS6Wgr_ocVXJ5qy6XXXXXXXX"
      ]
    },
    {
      "cell_type": "code",
      "source": [
        "to_analyze = sr.AudioFile('/content/gtts.wav')\n",
        "with to_analyze as source:\n",
        "  audio = r.record(source)"
      ],
      "metadata": {
        "id": "WzJdNbryC9H0"
      },
      "execution_count": null,
      "outputs": []
    },
    {
      "cell_type": "code",
      "source": [
        "type(audio)"
      ],
      "metadata": {
        "colab": {
          "base_uri": "https://localhost:8080/"
        },
        "id": "A2CpWmm9GpZ9",
        "outputId": "73b78178-c8dc-480b-e126-70bfeeaa96fd"
      },
      "execution_count": null,
      "outputs": [
        {
          "output_type": "execute_result",
          "data": {
            "text/plain": [
              "speech_recognition.AudioData"
            ]
          },
          "metadata": {},
          "execution_count": 6
        }
      ]
    },
    {
      "cell_type": "markdown",
      "source": [
        "# Konversi audio ke text"
      ],
      "metadata": {
        "id": "BslLtZ58VAAP"
      }
    },
    {
      "cell_type": "code",
      "source": [
        "text = r.recognize_google(audio, language=\"id-ID\")\n",
        "text"
      ],
      "metadata": {
        "colab": {
          "base_uri": "https://localhost:8080/",
          "height": 87
        },
        "id": "MtI-v_hUGtpE",
        "outputId": "aeb6eb20-92a7-4233-d746-31b7d93288dc"
      },
      "execution_count": null,
      "outputs": [
        {
          "output_type": "execute_result",
          "data": {
            "application/vnd.google.colaboratory.intrinsic+json": {
              "type": "string"
            },
            "text/plain": [
              "'Halo ini adalah suara untuk percobaan ya saya membaca berita dari website baru-baru ini seekor harimau hitam terlihat di sebuah taman Yogi odisha India Arie mahitam ini merupakan hewan langka di dunia di India sendiri hewan dengan loreng hitam ini tinggal tersisa 78 ekor harimau hitam di India sendiri pertama kali tertangkap kamera pada tahun 2007 di odisha'"
            ]
          },
          "metadata": {},
          "execution_count": 7
        }
      ]
    }
  ]
}